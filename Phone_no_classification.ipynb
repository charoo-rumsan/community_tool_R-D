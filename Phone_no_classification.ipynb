{
  "nbformat": 4,
  "nbformat_minor": 0,
  "metadata": {
    "colab": {
      "provenance": [],
      "include_colab_link": true
    },
    "kernelspec": {
      "name": "python3",
      "display_name": "Python 3"
    },
    "language_info": {
      "name": "python"
    }
  },
  "cells": [
    {
      "cell_type": "markdown",
      "metadata": {
        "id": "view-in-github",
        "colab_type": "text"
      },
      "source": [
        "<a href=\"https://colab.research.google.com/github/charoo-rumsan/community_tool_R-D/blob/main/Phone_no_classification.ipynb\" target=\"_parent\"><img src=\"https://colab.research.google.com/assets/colab-badge.svg\" alt=\"Open In Colab\"/></a>"
      ]
    },
    {
      "cell_type": "code",
      "execution_count": null,
      "metadata": {
        "id": "rQ6Tzn-fE572"
      },
      "outputs": [],
      "source": [
        "\n",
        "!pip install --quiet polars phonenumbers gspread google-auth\n"
      ]
    },
    {
      "cell_type": "code",
      "source": [
        " '''\n",
        "from google.colab import auth\n",
        "auth.authenticate_user()   # Follow the OAuth flow\n",
        "\n",
        "import gspread\n",
        "from google.auth import default\n",
        "creds, _ = default()\n",
        "gc = gspread.authorize(creds)\n",
        "\n",
        "# Provide your sheet URL or key here:\n",
        "SHEET_URL = \"https://docs.google.com/spreadsheets/d/1APm4yeggrP75hAlJdkQM4D4c0sIEWGzYG5Sdm8qwUwI/edit?gid=1461989259#gid=1461989259\"\n",
        "sh = gc.open_by_url(SHEET_URL)    # or: gc.open_by_key(\"SHEET_ID\")\n",
        "worksheet = sh.sheet1  # or sh.worksheet(\"Sheet name\")\n",
        "\n",
        "rows = worksheet.get_all_values()\n",
        "if len(rows) < 1:\n",
        "    raise RuntimeError(\"Sheet appears empty.\")\n",
        "header = rows[0]\n",
        "data = rows[1:]  '''\n"
      ],
      "metadata": {
        "colab": {
          "base_uri": "https://localhost:8080/",
          "height": 105
        },
        "id": "i7wbhl4rE8eg",
        "outputId": "0440866a-8712-4d2c-ac5a-c1d03078c12c"
      },
      "execution_count": null,
      "outputs": [
        {
          "output_type": "execute_result",
          "data": {
            "text/plain": [
              "'\\nfrom google.colab import auth\\nauth.authenticate_user()   # Follow the OAuth flow\\n\\nimport gspread\\nfrom google.auth import default\\ncreds, _ = default()\\ngc = gspread.authorize(creds)\\n\\n# Provide your sheet URL or key here:\\nSHEET_URL = \"https://docs.google.com/spreadsheets/d/1APm4yeggrP75hAlJdkQM4D4c0sIEWGzYG5Sdm8qwUwI/edit?gid=1461989259#gid=1461989259\"\\nsh = gc.open_by_url(SHEET_URL)    # or: gc.open_by_key(\"SHEET_ID\")\\nworksheet = sh.sheet1  # or sh.worksheet(\"Sheet name\")\\n\\nrows = worksheet.get_all_values()\\nif len(rows) < 1:\\n   raise RuntimeError(\"Sheet appears empty.\")\\nheader = rows[0]\\ndata = rows[1:]  '"
            ],
            "application/vnd.google.colaboratory.intrinsic+json": {
              "type": "string"
            }
          },
          "metadata": {},
          "execution_count": 24
        }
      ]
    },
    {
      "cell_type": "code",
      "source": [],
      "metadata": {
        "id": "NdVqO3JSG_Vs"
      },
      "execution_count": null,
      "outputs": []
    },
    {
      "cell_type": "markdown",
      "source": [
        "PROTOTYPE"
      ],
      "metadata": {
        "id": "m_OF_xfBLIXS"
      }
    },
    {
      "cell_type": "code",
      "source": [
        "import phonenumbers\n",
        "from phonenumbers import geocoder, NumberParseException"
      ],
      "metadata": {
        "id": "OEsFN0xzLLgl"
      },
      "execution_count": null,
      "outputs": []
    },
    {
      "cell_type": "markdown",
      "source": [
        " Classify and validate a phone number.\n",
        "    \n",
        "    Args:\n",
        "        phone_str (str): Raw phone number string\n",
        "        default_region (str): Country code to assume if no '+' prefix is given (default: Nepal 'NP')\n",
        "    \n",
        "    Returns:\n",
        "        dict: { 'phone': str, 'valid': bool, 'country': str }"
      ],
      "metadata": {
        "id": "5Ya8SghSOk-m"
      }
    },
    {
      "cell_type": "code",
      "source": [
        "def classify_number(phone_str, default_region=\"NP\"):\n",
        "\n",
        "    result = {\"phone\": phone_str, \"valid\": False, \"country\": None}\n",
        "\n",
        "    if not phone_str or str(phone_str).strip() == \"\":\n",
        "        return result\n",
        "\n",
        "    try:\n",
        "        # Parse number\n",
        "        num = phonenumbers.parse(str(phone_str), default_region)\n",
        "\n",
        "        # Check validity\n",
        "        if phonenumbers.is_valid_number(num):\n",
        "            result[\"valid\"] = True\n",
        "            result[\"country\"] = geocoder.description_for_number(num, \"en\")\n",
        "        else:\n",
        "            result[\"valid\"] = False\n",
        "    except NumberParseException:\n",
        "        result[\"valid\"] = False\n",
        "\n",
        "    return result"
      ],
      "metadata": {
        "id": "VH5bMsXVG_Yf"
      },
      "execution_count": null,
      "outputs": []
    },
    {
      "cell_type": "code",
      "source": [
        "examples = [\n",
        "    \"+9779812345678\",  # Valid Nepali\n",
        "    \"9812345678\",      # Nepali without +\n",
        "    \"+14155552671\",    # US number\n",
        "    \"12345\",           # Invalid\n",
        "]\n",
        "for ex in examples:\n",
        "    print(classify_number(ex))"
      ],
      "metadata": {
        "id": "_be6DUftG_cB"
      },
      "execution_count": null,
      "outputs": []
    },
    {
      "cell_type": "markdown",
      "source": [
        "IMPLEMENTATION"
      ],
      "metadata": {
        "id": "M0_ULhCZWfpo"
      }
    },
    {
      "cell_type": "code",
      "source": [
        "!pip install --quiet polars phonenumbers\n",
        "\n"
      ],
      "metadata": {
        "id": "_oUmLf_HG_fl"
      },
      "execution_count": null,
      "outputs": []
    },
    {
      "cell_type": "code",
      "source": [
        "import polars as pl\n",
        "\n",
        "# Adjust file path if needed (UPLOAD CSV FILE)\n",
        "df = pl.read_csv(\"/content/first_100_rows (1) - first_100_rows (1).csv.csv\")\n",
        "print(df.shape)\n",
        "print(df.head())\n"
      ],
      "metadata": {
        "id": "EJVSVITXHBi2"
      },
      "execution_count": null,
      "outputs": []
    },
    {
      "cell_type": "code",
      "source": [
        "import re\n",
        "import polars as pl\n",
        "\n",
        "candidates = []\n",
        "for col in df.columns:\n",
        " sample = df[col].drop_nulls().cast(pl.Utf8).head(20).to_list()\n",
        " if any(re.search(r\"\\d{7,}\", x) for x in sample):  # look for 7+ digits\n",
        "     candidates.append(col)\n",
        "\n",
        "candidates"
      ],
      "metadata": {
        "id": "hvv7Of1aIvty"
      },
      "execution_count": null,
      "outputs": []
    },
    {
      "cell_type": "markdown",
      "source": [
        "Google’s libphonenumber (and its ports) already encode these rules → it can:\n",
        "\n",
        "Parse numbers,\n",
        "\n",
        "Check validity (length/prefix match official plan),\n",
        "\n",
        "Tell you the country, carrier, and type (mobile/landline/etc."
      ],
      "metadata": {
        "id": "j2wpWaYEKjrD"
      }
    },
    {
      "cell_type": "code",
      "source": [
        "#Validation + Country function\n",
        "import phonenumbers\n",
        "from phonenumbers import geocoder\n",
        "\n",
        "def check_number(phone_str, default_region=\"NP\"):\n",
        "    try:\n",
        "        num = phonenumbers.parse(str(phone_str), default_region)\n",
        "        if not phonenumbers.is_valid_number(num):\n",
        "            return {\"phone\": phone_str, \"valid\": False, \"country\": None}\n",
        "        country = geocoder.description_for_number(num, \"en\")\n",
        "        return {\"phone\": phone_str, \"valid\": True, \"country\": country}\n",
        "    except Exception:\n",
        "        return {\"phone\": phone_str, \"valid\": False, \"country\": None}\n"
      ],
      "metadata": {
        "id": "wOfU-xbmHFcG"
      },
      "execution_count": null,
      "outputs": []
    },
    {
      "cell_type": "code",
      "source": [
        "phone_col = \"Phone number (फोन नं)\"  # <-- change to your actual column name\n",
        "\n",
        "results = [check_number(p) for p in df[phone_col].to_list()]\n",
        "res_df = pl.DataFrame(results)\n",
        "\n",
        "final_df = res_df\n",
        "final_df.head(10)\n"
      ],
      "metadata": {
        "id": "0pETI9lgHOUE"
      },
      "execution_count": null,
      "outputs": []
    },
    {
      "cell_type": "code",
      "source": [
        "out_path = \"/content/validated_numbers.csv\"\n",
        "final_df.write_csv(out_path)\n",
        "\n",
        "import pandas as pd\n",
        "from google.colab import files\n",
        "files.download(out_path)\n"
      ],
      "metadata": {
        "id": "vVx0Rn5wHTT6"
      },
      "execution_count": null,
      "outputs": []
    },
    {
      "cell_type": "markdown",
      "source": [
        "Polars + TensorFlow"
      ],
      "metadata": {
        "id": "S6h9-Nkk1SA_"
      }
    },
    {
      "cell_type": "code",
      "source": [
        "!pip install polars tensorflow\n"
      ],
      "metadata": {
        "id": "09Q_ql_B1Rxk"
      },
      "execution_count": null,
      "outputs": []
    },
    {
      "cell_type": "code",
      "source": [
        "import polars as pl\n",
        "\n",
        "# Load your uploaded dataset (adjust path if needed)\n",
        "df = pl.read_csv(\"/content/first_100_rows (1) - first_100_rows (1).csv.csv\")  # update file name\n",
        "\n",
        "# Preview\n",
        "print(df.head())\n",
        "\n",
        "print(df.columns)"
      ],
      "metadata": {
        "id": "GQ1Smsd_2Dj7"
      },
      "execution_count": null,
      "outputs": []
    },
    {
      "cell_type": "markdown",
      "source": [
        "Preprocessing"
      ],
      "metadata": {
        "id": "yRR9Yqrv2Oy7"
      }
    },
    {
      "cell_type": "code",
      "source": [
        "import numpy as np\n",
        "import string\n",
        "\n",
        "# Extract numbers as a list\n",
        "numbers = df[\"phonenumber\"].fill_null(\"\").to_list()\n",
        "print(numbers)\n",
        "\n",
        "# Character mapping\n",
        "chars = list(\"+0123456789\")\n",
        "char_to_idx = {c: i+1 for i,c in enumerate(chars)}  # reserve 0 for padding\n",
        "maxlen = 15  # max sequence length\n",
        "\n",
        "def encode(s):\n",
        "    seq = [char_to_idx.get(c, 0) for c in str(s)]\n",
        "    return seq[:maxlen] + [0]*(maxlen - len(seq))\n",
        "\n",
        "X_enc = np.array([encode(n) for n in numbers])\n"
      ],
      "metadata": {
        "id": "ib74yBwx2Qgk"
      },
      "execution_count": null,
      "outputs": []
    },
    {
      "cell_type": "code",
      "source": [
        "\n",
        "import numpy as np\n",
        "import string\n",
        "\n",
        "# Extract numbers as a list\n",
        "numbers = df[\"Phone number (फोन नं)\"].fill_null(\"\").to_list()\n",
        "print(numbers)\n",
        "\n",
        "# Character mapping\n",
        "chars = list(\"+0123456789\")\n",
        "char_to_idx = {c: i+1 for i,c in enumerate(chars)}  # reserve 0 for padding\n",
        "maxlen = 15  # max sequence length\n",
        "\n",
        "def encode(s):\n",
        "    seq = [char_to_idx.get(c, 0) for c in str(s)]\n",
        "    return seq[:maxlen] + [0]*(maxlen - len(seq))\n",
        "\n",
        "X_enc = np.array([encode(n) for n in numbers])"
      ],
      "metadata": {
        "id": "60IRrz0Q4Jj3"
      },
      "execution_count": null,
      "outputs": []
    },
    {
      "cell_type": "code",
      "source": [
        "import random\n",
        "from tensorflow import keras\n",
        "from tensorflow.keras import layers\n",
        "\n",
        "# Generate synthetic training data\n",
        "def generate_number(nepali=True, valid=True):\n",
        "    if not valid:\n",
        "        return \"\".join(random.choices(string.digits, k=random.randint(3, 5)))\n",
        "    if nepali:\n",
        "        return \"+97798\" + \"\".join(random.choices(string.digits, k=8))\n",
        "    else:\n",
        "        prefixes = [\"+1\", \"+91\", \"+44\", \"+81\"]\n",
        "        return random.choice(prefixes) + \"\".join(random.choices(string.digits, k=8))\n",
        "\n",
        "X_train, y_train = [], []\n",
        "for _ in range(3000):\n",
        "    X_train.append(encode(generate_number(True, True))); y_train.append(1)\n",
        "    X_train.append(encode(generate_number(False, True))); y_train.append(2)\n",
        "    X_train.append(encode(generate_number(True, False))); y_train.append(0)\n",
        "    X_train.append(encode(generate_number(False, False))); y_train.append(0)\n",
        "\n",
        "X_train = np.array(X_train)\n",
        "y_train = keras.utils.to_categorical(y_train, num_classes=3)\n",
        "\n",
        "# Model\n",
        "model = keras.Sequential([\n",
        "    layers.Embedding(input_dim=len(char_to_idx)+1, output_dim=8, input_length=maxlen),\n",
        "    layers.LSTM(32),\n",
        "    layers.Dense(32, activation=\"relu\"),\n",
        "    layers.Dense(3, activation=\"softmax\")\n",
        "])\n",
        "model.compile(optimizer=\"adam\", loss=\"categorical_crossentropy\", metrics=[\"accuracy\"])\n",
        "\n",
        "# Train quickly\n",
        "model.fit(X_train, y_train, epochs=5, batch_size=32, validation_split=0.2, verbose=1)\n"
      ],
      "metadata": {
        "id": "CNSLsYfi2YD6"
      },
      "execution_count": null,
      "outputs": []
    },
    {
      "cell_type": "code",
      "source": [
        "preds = model.predict(X_enc, verbose=0)\n",
        "labels = [\"Invalid\", \"Nepali\", \"International\"]\n",
        "\n",
        "results = [labels[np.argmax(p)] for p in preds]\n",
        "\n",
        "# Add back into Polars DataFrame\n",
        "\n",
        "df_out = pl.DataFrame({\n",
        "    \"Phone number (फोन नं)\": df[\"Phone number (फोन नं)\"],\n",
        "    \"Classification\": results\n",
        "})\n",
        "\n",
        "\n",
        "df_out.head(10)\n"
      ],
      "metadata": {
        "id": "LrEynUhv2lXN"
      },
      "execution_count": null,
      "outputs": []
    },
    {
      "cell_type": "code",
      "source": [
        "df_out.write_csv(\"/content/phone_classification_results.csv\")\n"
      ],
      "metadata": {
        "id": "VHHF_HAg2rwU"
      },
      "execution_count": null,
      "outputs": []
    }
  ]
}