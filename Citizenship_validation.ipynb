{
  "nbformat": 4,
  "nbformat_minor": 0,
  "metadata": {
    "colab": {
      "provenance": [],
      "include_colab_link": true
    },
    "kernelspec": {
      "name": "python3",
      "display_name": "Python 3"
    },
    "language_info": {
      "name": "python"
    }
  },
  "cells": [
    {
      "cell_type": "markdown",
      "metadata": {
        "id": "view-in-github",
        "colab_type": "text"
      },
      "source": [
        "<a href=\"https://colab.research.google.com/github/charoo-rumsan/community_tool_R-D/blob/main/Citizenship_validation.ipynb\" target=\"_parent\"><img src=\"https://colab.research.google.com/assets/colab-badge.svg\" alt=\"Open In Colab\"/></a>"
      ]
    },
    {
      "cell_type": "code",
      "execution_count": null,
      "metadata": {
        "id": "s87tlrfj-NGZ"
      },
      "outputs": [],
      "source": [
        "import numpy as np\n",
        "import pandas as pd\n",
        "import tensorflow as tf\n",
        "from tensorflow.keras.models import Sequential\n",
        "from tensorflow.keras.layers import LSTM, Dense, Embedding\n",
        "from sklearn.model_selection import train_test_split"
      ]
    },
    {
      "cell_type": "code",
      "source": [
        "# Step 1: Helper functions\n",
        "max_len = 8  # standard digit length after removing dashes\n",
        "\n",
        "def preprocess(cid):\n",
        "    cid = str(cid).replace(\"-\", \"\").strip()\n",
        "    cid = cid[:max_len].ljust(max_len, \"0\")  # pad or truncate\n",
        "    return [int(d) if d.isdigit() else 0 for d in cid]\n",
        "\n",
        "def corrupt_cid(cid):\n",
        "    cid = cid.replace(\"-\", \"\")\n",
        "    choices = [\"short\", \"long\", \"wrong_province\", \"random_digit\"]\n",
        "    choice = np.random.choice(choices)\n",
        "    if choice == \"short\":\n",
        "        return cid[:-1]\n",
        "    elif choice == \"long\":\n",
        "        return cid + str(np.random.randint(0,9))\n",
        "    elif choice == \"wrong_province\":\n",
        "        return str(np.random.randint(8,9)) + cid[1:]\n",
        "    elif choice == \"random_digit\":\n",
        "        idx = np.random.randint(0, len(cid))\n",
        "        return cid[:idx] + str(np.random.randint(0,9)) + cid[idx+1:]\n",
        "    return cid\n",
        "\n"
      ],
      "metadata": {
        "id": "pSreXyBvHtzA"
      },
      "execution_count": null,
      "outputs": []
    },
    {
      "cell_type": "code",
      "source": [
        "#Step 2: Generate synthetic dataset for training\n",
        "valid_cids = [f\"{p}-{np.random.randint(100000,999999)}-{d}\"\n",
        "              for p in range(1,8) for d in range(0,10) for _ in range(100)]\n",
        "\n",
        "invalid_cids = [corrupt_cid(cid) for cid in valid_cids]\n",
        "\n",
        "all_cids = valid_cids + invalid_cids\n",
        "labels = [1]*len(valid_cids) + [0]*len(invalid_cids)  # 1=Valid, 0=Invalid\n",
        "\n",
        "X = np.array([preprocess(cid) for cid in all_cids])\n",
        "y = np.array(labels)"
      ],
      "metadata": {
        "id": "-dZfXkZsH3yC"
      },
      "execution_count": null,
      "outputs": []
    },
    {
      "cell_type": "code",
      "source": [
        "#Step 3: Train/test split\n",
        "X_train, X_test, y_train, y_test = train_test_split(X, y, test_size=0.2, random_state=42)\n"
      ],
      "metadata": {
        "id": "u66zJiBoH7Qp"
      },
      "execution_count": null,
      "outputs": []
    },
    {
      "cell_type": "code",
      "source": [
        "#Step 4: Build LSTM model\n",
        "model = Sequential([\n",
        "    Embedding(input_dim=10, output_dim=8, input_length=max_len),  # digits 0-9\n",
        "    LSTM(32),\n",
        "    Dense(16, activation=\"relu\"),\n",
        "    Dense(1, activation=\"sigmoid\")\n",
        "])\n",
        "\n",
        "model.compile(loss=\"binary_crossentropy\", optimizer=\"adam\", metrics=[\"accuracy\"])\n",
        "model.fit(X_train, y_train, epochs=5, batch_size=32, validation_split=0.2, verbose=1)"
      ],
      "metadata": {
        "colab": {
          "base_uri": "https://localhost:8080/"
        },
        "id": "xCnEuOyMH94J",
        "outputId": "3d246300-c4ab-4a0f-ff67-166e93331ba5"
      },
      "execution_count": null,
      "outputs": [
        {
          "output_type": "stream",
          "name": "stdout",
          "text": [
            "Epoch 1/5\n"
          ]
        },
        {
          "output_type": "stream",
          "name": "stderr",
          "text": [
            "/usr/local/lib/python3.12/dist-packages/keras/src/layers/core/embedding.py:97: UserWarning: Argument `input_length` is deprecated. Just remove it.\n",
            "  warnings.warn(\n"
          ]
        },
        {
          "output_type": "stream",
          "name": "stdout",
          "text": [
            "\u001b[1m280/280\u001b[0m \u001b[32m━━━━━━━━━━━━━━━━━━━━\u001b[0m\u001b[37m\u001b[0m \u001b[1m4s\u001b[0m 5ms/step - accuracy: 0.5611 - loss: 0.6805 - val_accuracy: 0.7219 - val_loss: 0.5844\n",
            "Epoch 2/5\n",
            "\u001b[1m280/280\u001b[0m \u001b[32m━━━━━━━━━━━━━━━━━━━━\u001b[0m\u001b[37m\u001b[0m \u001b[1m1s\u001b[0m 4ms/step - accuracy: 0.7271 - loss: 0.5506 - val_accuracy: 0.7295 - val_loss: 0.5421\n",
            "Epoch 3/5\n",
            "\u001b[1m280/280\u001b[0m \u001b[32m━━━━━━━━━━━━━━━━━━━━\u001b[0m\u001b[37m\u001b[0m \u001b[1m1s\u001b[0m 4ms/step - accuracy: 0.7158 - loss: 0.5521 - val_accuracy: 0.7304 - val_loss: 0.5452\n",
            "Epoch 4/5\n",
            "\u001b[1m280/280\u001b[0m \u001b[32m━━━━━━━━━━━━━━━━━━━━\u001b[0m\u001b[37m\u001b[0m \u001b[1m1s\u001b[0m 4ms/step - accuracy: 0.7276 - loss: 0.5408 - val_accuracy: 0.7304 - val_loss: 0.5408\n",
            "Epoch 5/5\n",
            "\u001b[1m280/280\u001b[0m \u001b[32m━━━━━━━━━━━━━━━━━━━━\u001b[0m\u001b[37m\u001b[0m \u001b[1m1s\u001b[0m 4ms/step - accuracy: 0.7291 - loss: 0.5390 - val_accuracy: 0.7308 - val_loss: 0.5402\n"
          ]
        },
        {
          "output_type": "execute_result",
          "data": {
            "text/plain": [
              "<keras.src.callbacks.history.History at 0x7bc7c72e8350>"
            ]
          },
          "metadata": {},
          "execution_count": 6
        }
      ]
    },
    {
      "cell_type": "code",
      "source": [
        "#Step 5: Save model for reuse\n",
        "model.save(\"nepali_cid_validator.h5\")"
      ],
      "metadata": {
        "colab": {
          "base_uri": "https://localhost:8080/"
        },
        "id": "P7ux4kH3IAs2",
        "outputId": "26f9565f-c6ce-41ef-c6af-8b31121d5501"
      },
      "execution_count": null,
      "outputs": [
        {
          "output_type": "stream",
          "name": "stderr",
          "text": [
            "WARNING:absl:You are saving your model as an HDF5 file via `model.save()` or `keras.saving.save_model(model)`. This file format is considered legacy. We recommend using instead the native Keras format, e.g. `model.save('my_model.keras')` or `keras.saving.save_model(model, 'my_model.keras')`. \n"
          ]
        }
      ]
    },
    {
      "cell_type": "code",
      "source": [
        "#Step 6: Function to classify new citizenship numbers\n",
        "def predict_cid(cid):\n",
        "    x = np.array([preprocess(cid)])\n",
        "    pred = model.predict(x, verbose=0)[0][0]\n",
        "    return \"Valid\" if pred > 0.5 else \"Invalid\""
      ],
      "metadata": {
        "id": "mLOtLjW3IEXy"
      },
      "execution_count": null,
      "outputs": []
    },
    {
      "cell_type": "code",
      "source": [
        "\n",
        "#Step 7: Apply to a CSV file\n",
        "\n",
        "df = pd.read_csv(\"/content/first_100_rows (1) - first_100_rows (1).csv.csv\")\n",
        "\n",
        "df[\"label\"] = df[\"Citizenship Number of House Owner (नागरिकता नं)\"].apply(predict_cid)"
      ],
      "metadata": {
        "id": "QN3T9y4AIGzi"
      },
      "execution_count": null,
      "outputs": []
    },
    {
      "cell_type": "code",
      "source": [
        "# Save result\n",
        "df[[\"Citizenship Number of House Owner (नागरिकता नं)\", \"label\"]].to_csv(\"validated_citizenships.csv\", index=False)\n",
        "\n",
        "print(\"✅ Validation complete! Check 'validated_citizenships.csv'\")"
      ],
      "metadata": {
        "colab": {
          "base_uri": "https://localhost:8080/"
        },
        "id": "Lb0Y_yc4IKgQ",
        "outputId": "86e0d84d-6314-4372-d904-b10742aa6f92"
      },
      "execution_count": null,
      "outputs": [
        {
          "output_type": "stream",
          "name": "stdout",
          "text": [
            "✅ Validation complete! Check 'validated_citizenships.csv'\n"
          ]
        }
      ]
    },
    {
      "cell_type": "code",
      "source": [],
      "metadata": {
        "id": "C7XWIxM7Fx0_"
      },
      "execution_count": null,
      "outputs": []
    },
    {
      "cell_type": "markdown",
      "source": [
        "METHOD 2"
      ],
      "metadata": {
        "id": "LccbcY6FIEEN"
      }
    },
    {
      "cell_type": "markdown",
      "source": [
        "Validation Rules\n",
        "The validation logic checks if a citizenship number matches one of the above formats and applies additional checks for plausibility (e.g., valid district codes and years). Here are the specific rules:\n",
        "\n",
        "1. Empty or Invalid Input Check:\n",
        "If the input is missing (NaN), not a string, or empty after stripping whitespace, it’s invalid.\n",
        "Rationale: Empty or malformed entries (e.g., non-string data) cannot be valid citizenship numbers.\n",
        "Example: Row 90 (Nankala Odd) has an empty citizenship number → Invalid.\n",
        "\n",
        "\n",
        "2. Normalization:\n",
        "Replace / with - to standardize formats for regex matching.\n",
        "Rationale: Your data uses / (e.g., 753029/563), but the standard format often uses -. Normalizing ensures consistency.\n",
        "Example: 753029/563 becomes 753029-563.\n",
        "\n",
        "\n",
        "3. Standard Format Check (\\d{1,2}-\\d{1,2}-\\d{2,3}-\\d{4,7}):\n",
        "Matches: 1-2 digits (district), 1-2 digits (VDC/municipality), 2-3 digits (year), 4-7 digits (serial).\n",
        "Additional checks:\n",
        "\n",
        "4. District Code: Must be 01-77 (Nepal has 77 districts).\n",
        "Year: Must be 01-82 (corresponding to BS years ~1944-2025 AD, as 2082 BS ≈ 2025 AD).\n",
        "\n",
        "\n",
        "5. Rationale: This is a common format for Nepali citizenship numbers, though not seen in your sample. Included for robustness.\n",
        "Example: Hypothetical 12-34-56-12345 would pass if district 12 and year 56 are valid.\n",
        "\n",
        "\n",
        "6. Slash Format Check (\\d{4,8}/\\d{3,5}):\n",
        "Matches: 4-8 digits before /, 3-5 digits after /.\n",
        "Additional check:\n",
        "\n",
        "7. Year:\n",
        "Take the last 2 digits of the first part (e.g., 753020 → 20) as the year. Must be 01-82.\n",
        "\n",
        "\n",
        "8. Rationale: This format is prevalent in your data (e.g., 753020/506, 1411/695). The year check ensures the number is plausible for recent issuances.\n",
        "Example: 753020/506 → Year 20 (2020 BS ≈ 1963 AD, plausible for older citizens) → Valid.\n",
        "\n",
        "\n",
        "9. Plain Digits Check (\\d{10,12}):\n",
        "Matches: 10-12 digits with no separators.\n",
        "Rationale: Some records might lack separators due to data entry variations. 10-12 digits is a reasonable length for a complete citizenship number.\n",
        "Example: 123456789012 would pass, but 2862 (Row 89) fails (too short).\n",
        "\n",
        "\n",
        "10. Invalid Cases:\n",
        "Numbers that don’t match any pattern.\n",
        "Numbers with invalid district codes or years.\n",
        "Short numbers (e.g., 189, 1574) that don’t meet the minimum length for plain digits.\n",
        "Rationale: These are likely errors or incomplete entries."
      ],
      "metadata": {
        "id": "FE5tUNIYHdJv"
      }
    },
    {
      "cell_type": "code",
      "source": [
        "import pandas as pd\n",
        "import re\n",
        "\n",
        "# Load the CSV file (all columns as string to avoid type issues)\n",
        "df = pd.read_csv('/content/first_100_rows (1) - first_100_rows (1).csv.csv', dtype=str)\n",
        "\n",
        "# Define the citizenship column\n",
        "citizenship_col = 'Citizenship Number of House Owner (नागरिकता नं)'\n",
        "\n",
        "# Check if the column exists\n",
        "if citizenship_col not in df.columns:\n",
        "    print(f\"Error: Column '{citizenship_col}' not found in the dataset.\")\n",
        "else:\n",
        "    # Function to validate citizenship number\n",
        "    def is_valid_citizenship(num):\n",
        "        if pd.isna(num) or not isinstance(num, str) or num.strip() == '':\n",
        "            return False\n",
        "\n",
        "        # Normalize / to -\n",
        "        num_normalized = num.replace('/', '-')\n",
        "\n",
        "        # Standard format: XX-XX-XX-XXXXX\n",
        "        if re.match(r'^\\d{1,2}-\\d{1,2}-\\d{2,3}-\\d{4,7}$', num_normalized):\n",
        "            parts = num_normalized.split('-')\n",
        "            district = int(parts[0])\n",
        "            year = int(parts[2])\n",
        "            if 1 <= district <= 77 and 1 <= year <= 82:\n",
        "                return True\n",
        "\n",
        "        # Simple / format common in data: XXXX/XXX\n",
        "        if re.match(r'^\\d{4,8}/\\d{3,5}$', num):\n",
        "            parts = num.split('/')\n",
        "            year_str = parts[0][-2:] if len(parts[0]) > 2 else parts[0]  # Last 2 digits as year\n",
        "            year = int(year_str)\n",
        "            if 1 <= year <= 82:\n",
        "                return True\n",
        "\n",
        "        # Plain digits: 10-12 long\n",
        "        if re.match(r'^\\d{10,12}$', num):\n",
        "            return True\n",
        "\n",
        "        return False\n",
        "\n",
        "    # Apply validation\n",
        "    df['valid_citizenship'] = df[citizenship_col].apply(is_valid_citizenship)\n",
        "\n",
        "    # Create new dataframe with only the required columns\n",
        "    output_df = df[[citizenship_col, 'valid_citizenship']]\n",
        "\n",
        "    # Display summary\n",
        "    print(\"\\nValidation Summary:\")\n",
        "    print(output_df)\n",
        "\n",
        "    # Count valid/invalid\n",
        "    print(f\"\\nTotal rows: {len(df)}\")\n",
        "    print(f\"Valid citizenship numbers: {df['valid_citizenship'].sum()}\")\n",
        "    print(f\"Invalid or empty: {len(df) - df['valid_citizenship'].sum()}\")\n",
        "\n",
        "    # Save new CSV with only citizenship and validity columns\n",
        "    output_df.to_csv('citizenship_validity.csv', index=False)\n",
        "    print(\"\\nNew CSV saved as 'citizenship_validity.csv' with only citizenship and validity columns\")"
      ],
      "metadata": {
        "colab": {
          "base_uri": "https://localhost:8080/"
        },
        "id": "30-t9Wl0Fx4a",
        "outputId": "618568fe-51df-45af-9cd6-83488fea8fed"
      },
      "execution_count": null,
      "outputs": [
        {
          "output_type": "stream",
          "name": "stdout",
          "text": [
            "\n",
            "Validation Summary:\n",
            "   Citizenship Number of House Owner (नागरिकता नं)  valid_citizenship\n",
            "0                                          353/044              False\n",
            "1                                        12-035-36              False\n",
            "2                                       752002/321               True\n",
            "3                                       733012/902               True\n",
            "4                                       733908/925               True\n",
            "..                                             ...                ...\n",
            "95                                             NaN              False\n",
            "96                                             NaN              False\n",
            "97                                     75/69742601              False\n",
            "98                                     752020/1799               True\n",
            "99                                            1574              False\n",
            "\n",
            "[100 rows x 2 columns]\n",
            "\n",
            "Total rows: 100\n",
            "Valid citizenship numbers: 22\n",
            "Invalid or empty: 78\n",
            "\n",
            "New CSV saved as 'citizenship_validity.csv' with only citizenship and validity columns\n"
          ]
        }
      ]
    }
  ]
}