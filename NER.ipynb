{
  "nbformat": 4,
  "nbformat_minor": 0,
  "metadata": {
    "colab": {
      "provenance": [],
      "include_colab_link": true
    },
    "kernelspec": {
      "name": "python3",
      "display_name": "Python 3"
    },
    "language_info": {
      "name": "python"
    }
  },
  "cells": [
    {
      "cell_type": "markdown",
      "metadata": {
        "id": "view-in-github",
        "colab_type": "text"
      },
      "source": [
        "<a href=\"https://colab.research.google.com/github/charoo-rumsan/community_tool_R-D/blob/main/NER.ipynb\" target=\"_parent\"><img src=\"https://colab.research.google.com/assets/colab-badge.svg\" alt=\"Open In Colab\"/></a>"
      ]
    },
    {
      "cell_type": "markdown",
      "source": [
        "1. SPACY FOR NAMED ENTITY RECOGNIZATION"
      ],
      "metadata": {
        "id": "XGKBD0thL7KH"
      }
    },
    {
      "cell_type": "code",
      "execution_count": null,
      "metadata": {
        "id": "2Q25qJThJ0pr"
      },
      "outputs": [],
      "source": [
        "import spacy\n",
        "\n",
        "#creating an object and loading the pre-trained model for \"English\"\n",
        "nlp= spacy.load(\"en_core_web_sm\")"
      ]
    },
    {
      "cell_type": "code",
      "source": [
        "nlp.pipe_names"
      ],
      "metadata": {
        "colab": {
          "base_uri": "https://localhost:8080/"
        },
        "id": "9aNhpDQfJ_ta",
        "outputId": "bdf89b49-7d47-470e-c643-eb48da6fbb16"
      },
      "execution_count": null,
      "outputs": [
        {
          "output_type": "execute_result",
          "data": {
            "text/plain": [
              "['tok2vec', 'tagger', 'parser', 'attribute_ruler', 'lemmatizer', 'ner']"
            ]
          },
          "metadata": {},
          "execution_count": 28
        }
      ]
    },
    {
      "cell_type": "code",
      "source": [
        "doc = nlp(\"tesla inc is going to acquire twitter for 45 billion\")\n",
        "\n",
        "for ent in doc.ents:\n",
        "  print(ent.text,\"|\",ent.label_,\"|\",spacy.explain(ent.label_))"
      ],
      "metadata": {
        "colab": {
          "base_uri": "https://localhost:8080/"
        },
        "id": "FkO1w16qKEG3",
        "outputId": "dc79da11-dcc6-4b5b-d8bf-7b8540c4363a"
      },
      "execution_count": null,
      "outputs": [
        {
          "output_type": "stream",
          "name": "stdout",
          "text": [
            "tesla inc | ORG | Companies, agencies, institutions, etc.\n",
            "45 billion | MONEY | Monetary values, including unit\n"
          ]
        }
      ]
    },
    {
      "cell_type": "code",
      "source": [
        "doc1 = nlp(\"tesla inc is going to acquire Twitter for 45 billion\")\n",
        "\n",
        "for ent in doc.ents:\n",
        "  print(ent.text,\"|\",ent.label_,\"|\",spacy.explain(ent.label_))"
      ],
      "metadata": {
        "colab": {
          "base_uri": "https://localhost:8080/"
        },
        "id": "GfON6G3vK6gd",
        "outputId": "c847df2c-f063-4fa7-ce7b-ac03ded0f60d"
      },
      "execution_count": null,
      "outputs": [
        {
          "output_type": "stream",
          "name": "stdout",
          "text": [
            "tesla inc | ORG | Companies, agencies, institutions, etc.\n",
            "45 billion | MONEY | Monetary values, including unit\n"
          ]
        }
      ]
    },
    {
      "cell_type": "code",
      "source": [
        "doc2 = nlp(\"tesla inc is going to acquire Twitter inc for 45 billion\")\n",
        "\n",
        "for ent in doc.ents:\n",
        "  print(ent.text,\"|\",ent.label_,\"|\",spacy.explain(ent.label_))"
      ],
      "metadata": {
        "colab": {
          "base_uri": "https://localhost:8080/"
        },
        "id": "JZjv07_nK-_e",
        "outputId": "43c190c9-b785-4554-b013-00e1647a6a33"
      },
      "execution_count": null,
      "outputs": [
        {
          "output_type": "stream",
          "name": "stdout",
          "text": [
            "tesla inc | ORG | Companies, agencies, institutions, etc.\n",
            "45 billion | MONEY | Monetary values, including unit\n"
          ]
        }
      ]
    },
    {
      "cell_type": "code",
      "source": [
        "from spacy import displacy\n",
        "\n",
        "displacy.render(doc, style= \"ent\")\n",
        "displacy.render(doc1, style= \"ent\")\n",
        "displacy.render(doc2, style= \"ent\")"
      ],
      "metadata": {
        "colab": {
          "base_uri": "https://localhost:8080/",
          "height": 122
        },
        "id": "08QybJljKjMl",
        "outputId": "c408209d-df51-4879-ea15-d103a12f364b"
      },
      "execution_count": null,
      "outputs": [
        {
          "output_type": "display_data",
          "data": {
            "text/plain": [
              "<IPython.core.display.HTML object>"
            ],
            "text/html": [
              "<span class=\"tex2jax_ignore\"><div class=\"entities\" style=\"line-height: 2.5; direction: ltr\">\n",
              "<mark class=\"entity\" style=\"background: #7aecec; padding: 0.45em 0.6em; margin: 0 0.25em; line-height: 1; border-radius: 0.35em;\">\n",
              "    tesla inc\n",
              "    <span style=\"font-size: 0.8em; font-weight: bold; line-height: 1; border-radius: 0.35em; vertical-align: middle; margin-left: 0.5rem\">ORG</span>\n",
              "</mark>\n",
              " is going to acquire twitter for \n",
              "<mark class=\"entity\" style=\"background: #e4e7d2; padding: 0.45em 0.6em; margin: 0 0.25em; line-height: 1; border-radius: 0.35em;\">\n",
              "    45 billion\n",
              "    <span style=\"font-size: 0.8em; font-weight: bold; line-height: 1; border-radius: 0.35em; vertical-align: middle; margin-left: 0.5rem\">MONEY</span>\n",
              "</mark>\n",
              "</div></span>"
            ]
          },
          "metadata": {}
        },
        {
          "output_type": "display_data",
          "data": {
            "text/plain": [
              "<IPython.core.display.HTML object>"
            ],
            "text/html": [
              "<span class=\"tex2jax_ignore\"><div class=\"entities\" style=\"line-height: 2.5; direction: ltr\">\n",
              "<mark class=\"entity\" style=\"background: #7aecec; padding: 0.45em 0.6em; margin: 0 0.25em; line-height: 1; border-radius: 0.35em;\">\n",
              "    tesla inc\n",
              "    <span style=\"font-size: 0.8em; font-weight: bold; line-height: 1; border-radius: 0.35em; vertical-align: middle; margin-left: 0.5rem\">ORG</span>\n",
              "</mark>\n",
              " is going to acquire \n",
              "<mark class=\"entity\" style=\"background: #aa9cfc; padding: 0.45em 0.6em; margin: 0 0.25em; line-height: 1; border-radius: 0.35em;\">\n",
              "    Twitter\n",
              "    <span style=\"font-size: 0.8em; font-weight: bold; line-height: 1; border-radius: 0.35em; vertical-align: middle; margin-left: 0.5rem\">PERSON</span>\n",
              "</mark>\n",
              " for \n",
              "<mark class=\"entity\" style=\"background: #e4e7d2; padding: 0.45em 0.6em; margin: 0 0.25em; line-height: 1; border-radius: 0.35em;\">\n",
              "    45 billion\n",
              "    <span style=\"font-size: 0.8em; font-weight: bold; line-height: 1; border-radius: 0.35em; vertical-align: middle; margin-left: 0.5rem\">MONEY</span>\n",
              "</mark>\n",
              "</div></span>"
            ]
          },
          "metadata": {}
        },
        {
          "output_type": "display_data",
          "data": {
            "text/plain": [
              "<IPython.core.display.HTML object>"
            ],
            "text/html": [
              "<span class=\"tex2jax_ignore\"><div class=\"entities\" style=\"line-height: 2.5; direction: ltr\">\n",
              "<mark class=\"entity\" style=\"background: #7aecec; padding: 0.45em 0.6em; margin: 0 0.25em; line-height: 1; border-radius: 0.35em;\">\n",
              "    tesla inc\n",
              "    <span style=\"font-size: 0.8em; font-weight: bold; line-height: 1; border-radius: 0.35em; vertical-align: middle; margin-left: 0.5rem\">ORG</span>\n",
              "</mark>\n",
              " is going to acquire \n",
              "<mark class=\"entity\" style=\"background: #7aecec; padding: 0.45em 0.6em; margin: 0 0.25em; line-height: 1; border-radius: 0.35em;\">\n",
              "    Twitter inc\n",
              "    <span style=\"font-size: 0.8em; font-weight: bold; line-height: 1; border-radius: 0.35em; vertical-align: middle; margin-left: 0.5rem\">ORG</span>\n",
              "</mark>\n",
              " for \n",
              "<mark class=\"entity\" style=\"background: #e4e7d2; padding: 0.45em 0.6em; margin: 0 0.25em; line-height: 1; border-radius: 0.35em;\">\n",
              "    45 billion\n",
              "    <span style=\"font-size: 0.8em; font-weight: bold; line-height: 1; border-radius: 0.35em; vertical-align: middle; margin-left: 0.5rem\">MONEY</span>\n",
              "</mark>\n",
              "</div></span>"
            ]
          },
          "metadata": {}
        }
      ]
    },
    {
      "cell_type": "code",
      "source": [
        "nlp.pipe_labels['ner']"
      ],
      "metadata": {
        "colab": {
          "base_uri": "https://localhost:8080/"
        },
        "id": "AW7OqIuALPcA",
        "outputId": "d04c873c-be02-4014-a798-71c214a718f1"
      },
      "execution_count": null,
      "outputs": [
        {
          "output_type": "execute_result",
          "data": {
            "text/plain": [
              "['CARDINAL',\n",
              " 'DATE',\n",
              " 'EVENT',\n",
              " 'FAC',\n",
              " 'GPE',\n",
              " 'LANGUAGE',\n",
              " 'LAW',\n",
              " 'LOC',\n",
              " 'MONEY',\n",
              " 'NORP',\n",
              " 'ORDINAL',\n",
              " 'ORG',\n",
              " 'PERCENT',\n",
              " 'PERSON',\n",
              " 'PRODUCT',\n",
              " 'QUANTITY',\n",
              " 'TIME',\n",
              " 'WORK_OF_ART']"
            ]
          },
          "metadata": {},
          "execution_count": 33
        }
      ]
    },
    {
      "cell_type": "code",
      "source": [
        "doc3= nlp(\"Michael Bloomberg founded Bloomberg in 1982\")\n",
        "\n",
        "for ent in doc.ents:\n",
        "  print(ent.text,\"|\",ent.label_,\"|\",spacy.explain(ent.label_))"
      ],
      "metadata": {
        "colab": {
          "base_uri": "https://localhost:8080/"
        },
        "id": "J7OoIRlELcBo",
        "outputId": "a987b76a-d693-461a-b153-f61f5cb34035"
      },
      "execution_count": null,
      "outputs": [
        {
          "output_type": "stream",
          "name": "stdout",
          "text": [
            "tesla inc | ORG | Companies, agencies, institutions, etc.\n",
            "45 billion | MONEY | Monetary values, including unit\n"
          ]
        }
      ]
    },
    {
      "cell_type": "code",
      "source": [
        "doc4= nlp(\"Michael Bloomberg founded Bloomberg LLP in 1982\")\n",
        "\n",
        "for ent in doc.ents:\n",
        "  print(ent.text,\"|\",ent.label_,\"|\",spacy.explain(ent.label_))"
      ],
      "metadata": {
        "colab": {
          "base_uri": "https://localhost:8080/"
        },
        "id": "czmJjcrULtgx",
        "outputId": "0df20582-0fdd-4005-c808-f87276999a41"
      },
      "execution_count": null,
      "outputs": [
        {
          "output_type": "stream",
          "name": "stdout",
          "text": [
            "tesla inc | ORG | Companies, agencies, institutions, etc.\n",
            "45 billion | MONEY | Monetary values, including unit\n"
          ]
        }
      ]
    },
    {
      "cell_type": "code",
      "source": [
        "type(doc[0])"
      ],
      "metadata": {
        "colab": {
          "base_uri": "https://localhost:8080/"
        },
        "id": "iW5lPKHGL16H",
        "outputId": "b6081d0c-fa64-4cb4-e66d-b6d66c74d1b4"
      },
      "execution_count": null,
      "outputs": [
        {
          "output_type": "execute_result",
          "data": {
            "text/plain": [
              "spacy.tokens.token.Token"
            ]
          },
          "metadata": {},
          "execution_count": 36
        }
      ]
    },
    {
      "cell_type": "code",
      "source": [
        "type(doc[2:5])"
      ],
      "metadata": {
        "colab": {
          "base_uri": "https://localhost:8080/"
        },
        "id": "eKC6j47_MMSj",
        "outputId": "3aa135c7-c028-43e9-ddce-172994b24a8f"
      },
      "execution_count": null,
      "outputs": [
        {
          "output_type": "execute_result",
          "data": {
            "text/plain": [
              "spacy.tokens.span.Span"
            ]
          },
          "metadata": {},
          "execution_count": 37
        }
      ]
    },
    {
      "cell_type": "code",
      "source": [
        "# imports the Span class from spacy.tokens, which is necessary to create custom spans (sequences of tokens) within a doc\n",
        "\n",
        "from spacy.tokens import Span\n",
        "\n",
        "s1= Span(doc, 0, 1, label='ORG')#tesla\n",
        "s2= Span(doc, 6, 7, label='ORG')#twitter\n",
        "\n",
        "doc.set_ents([s1, s2], default=\"unmodified\")\n",
        "\n"
      ],
      "metadata": {
        "id": "ADCnDCWqMRhG"
      },
      "execution_count": null,
      "outputs": []
    },
    {
      "cell_type": "code",
      "source": [
        "for ent in doc.ents:\n",
        "  print(ent.text, \"|\", ent.label_)"
      ],
      "metadata": {
        "colab": {
          "base_uri": "https://localhost:8080/"
        },
        "id": "5NsAi0C-NlaD",
        "outputId": "3eae9db6-e809-4fb5-d57c-1766abe49865"
      },
      "execution_count": null,
      "outputs": [
        {
          "output_type": "stream",
          "name": "stdout",
          "text": [
            "tesla inc | ORG\n",
            "twitter | ORG\n",
            "45 billion | MONEY\n"
          ]
        }
      ]
    },
    {
      "cell_type": "code",
      "source": [
        "#Extract all the Geographical (cities, Countries, states) names from a given text\n",
        "\n",
        "text = \"\"\"Kiran want to know the famous foods in each state of India. So, he opened Google and search for this question. Google showed that\n",
        "in Delhi it is Chaat, in Gujarat it is Dal Dhokli, in Tamilnadu it is Pongal, in Andhrapradesh it is Biryani, in Assam it is Papaya Khar,\n",
        "in Bihar it is Litti Chowkha and so on for all other states\"\"\"\n",
        "\n",
        "doc = nlp(text)\n",
        "\n",
        "\n",
        "\n",
        "#list for storing all the names\n",
        "all_gpe_names = []\n",
        "\n",
        "for ent in doc.ents:\n",
        "  if ent.label_ == 'GPE':     #checking the whether token belongs to entity \"GPE\" [Geographical location]\n",
        "    all_gpe_names.append(ent)\n",
        "\n",
        "\n",
        "\n",
        "#finally printing the results\n",
        "print(\"Geographical location Names: \", all_gpe_names)\n",
        "print(\"Count: \", len(all_gpe_names))"
      ],
      "metadata": {
        "colab": {
          "base_uri": "https://localhost:8080/"
        },
        "id": "0WZ7k48oPsgU",
        "outputId": "e0869a4d-7793-44fe-de6b-7a66ea1a3b4d"
      },
      "execution_count": null,
      "outputs": [
        {
          "output_type": "stream",
          "name": "stdout",
          "text": [
            "Geographical location Names:  [Kiran, India, Delhi, Gujarat, Tamilnadu, Andhrapradesh, Assam, Bihar]\n",
            "Count:  8\n"
          ]
        }
      ]
    },
    {
      "cell_type": "code",
      "source": [
        "#Extract all the birth dates of cricketers in the given Text\n",
        "\n",
        "\n",
        "text = \"\"\"Sachin Tendulkar was born on 24 April 1973, Virat Kholi was born on 5 November 1988, Dhoni was born on 7 July 1981\n",
        "and finally Ricky ponting was born on 19 December 1974.\"\"\"\n",
        "\n",
        "doc = nlp(text)\n",
        "\n",
        "\n",
        "\n",
        "#list for storing all the dates\n",
        "all_birth_dates = []\n",
        "\n",
        "for ent in doc.ents:\n",
        "  if ent.label_ == 'DATE':     #checking the whether token belongs to entity \"DATE\" [Dates]\n",
        "    all_birth_dates.append(ent)\n",
        "\n",
        "\n",
        "\n",
        "#finally printing the results\n",
        "print(\"All Birth Dates: \", all_birth_dates)\n",
        "print(\"Count: \", len(all_birth_dates))"
      ],
      "metadata": {
        "colab": {
          "base_uri": "https://localhost:8080/"
        },
        "id": "hylzgqR-s2gF",
        "outputId": "0b9f0f31-6737-4e0a-ee4d-2a7303ae6466"
      },
      "execution_count": null,
      "outputs": [
        {
          "output_type": "stream",
          "name": "stdout",
          "text": [
            "All Birth Dates:  [24 April 1973, 5 November 1988, 7 July 1981, 19 December 1974]\n",
            "Count:  4\n"
          ]
        }
      ]
    },
    {
      "cell_type": "code",
      "source": [
        "text= \"\"\"\n",
        "Apple launched the new iPhone 15 in California on September 12, 2023.\n",
        "Nike collaborated with Serena Williams to release a new tennis collection in Paris.\n",
        "\"\"\""
      ],
      "metadata": {
        "id": "qq0X2bx6wMI1"
      },
      "execution_count": null,
      "outputs": []
    },
    {
      "cell_type": "code",
      "source": [
        "doc_list = nlp(text)"
      ],
      "metadata": {
        "id": "8r10wqRTwo7j"
      },
      "execution_count": null,
      "outputs": []
    },
    {
      "cell_type": "code",
      "source": [
        "doc = nlp(text)\n",
        "print(\"Named entities:\\n\")\n",
        "for ent in doc.ents:\n",
        "  print(f\"{ent.text:30} -> {ent.label_:10} ({spacy.explain(ent.label_)})\")"
      ],
      "metadata": {
        "colab": {
          "base_uri": "https://localhost:8080/"
        },
        "id": "RAG51CxbwvDt",
        "outputId": "c2e5d39c-805c-46aa-a2ce-060078d3ce14"
      },
      "execution_count": null,
      "outputs": [
        {
          "output_type": "stream",
          "name": "stdout",
          "text": [
            "Named entities:\n",
            "\n",
            "Apple                          -> ORG        (Companies, agencies, institutions, etc.)\n",
            "15                             -> CARDINAL   (Numerals that do not fall under another type)\n",
            "California                     -> GPE        (Countries, cities, states)\n",
            "September 12, 2023             -> DATE       (Absolute or relative dates or periods)\n",
            "Nike                           -> ORG        (Companies, agencies, institutions, etc.)\n",
            "Serena Williams                -> PERSON     (People, including fictional)\n",
            "Paris                          -> GPE        (Countries, cities, states)\n"
          ]
        }
      ]
    },
    {
      "cell_type": "markdown",
      "source": [
        "https://huggingface.co/dslim/bert-base-NER\n",
        "\n",
        "2. HUGGING FACE bert-base-NER"
      ],
      "metadata": {
        "id": "3P0misMWtYox"
      }
    },
    {
      "cell_type": "code",
      "source": [
        "from transformers import AutoTokenizer, AutoModelForTokenClassification\n",
        "from transformers import pipeline\n",
        "\n",
        "tokenizer = AutoTokenizer.from_pretrained(\"dslim/bert-base-NER\")\n",
        "model = AutoModelForTokenClassification.from_pretrained(\"dslim/bert-base-NER\")\n",
        "\n",
        "nlp = pipeline(\"ner\", model=model, tokenizer=tokenizer)\n",
        "example = \"My name is Wolfgang and I live in Berlin\"\n",
        "\n",
        "ner_results = nlp(example)\n",
        "print(ner_results)"
      ],
      "metadata": {
        "colab": {
          "base_uri": "https://localhost:8080/"
        },
        "id": "YNjFnlb-twC8",
        "outputId": "38e777d7-2625-484c-cd78-38659f7eaa5d"
      },
      "execution_count": null,
      "outputs": [
        {
          "output_type": "stream",
          "name": "stderr",
          "text": [
            "Some weights of the model checkpoint at dslim/bert-base-NER were not used when initializing BertForTokenClassification: ['bert.pooler.dense.bias', 'bert.pooler.dense.weight']\n",
            "- This IS expected if you are initializing BertForTokenClassification from the checkpoint of a model trained on another task or with another architecture (e.g. initializing a BertForSequenceClassification model from a BertForPreTraining model).\n",
            "- This IS NOT expected if you are initializing BertForTokenClassification from the checkpoint of a model that you expect to be exactly identical (initializing a BertForSequenceClassification model from a BertForSequenceClassification model).\n",
            "Device set to use cpu\n"
          ]
        },
        {
          "output_type": "stream",
          "name": "stdout",
          "text": [
            "[{'entity': 'B-PER', 'score': np.float32(0.9990139), 'index': 4, 'word': 'Wolfgang', 'start': 11, 'end': 19}, {'entity': 'B-LOC', 'score': np.float32(0.999645), 'index': 9, 'word': 'Berlin', 'start': 34, 'end': 40}]\n"
          ]
        }
      ]
    },
    {
      "cell_type": "code",
      "source": [
        "!pip install transformers"
      ],
      "metadata": {
        "colab": {
          "base_uri": "https://localhost:8080/"
        },
        "id": "Ti3CP-rlyzzB",
        "outputId": "60c7c84d-d225-4485-f2ad-a110c544ec29"
      },
      "execution_count": null,
      "outputs": [
        {
          "output_type": "stream",
          "name": "stdout",
          "text": [
            "Requirement already satisfied: transformers in /usr/local/lib/python3.12/dist-packages (4.56.1)\n",
            "Requirement already satisfied: filelock in /usr/local/lib/python3.12/dist-packages (from transformers) (3.19.1)\n",
            "Requirement already satisfied: huggingface-hub<1.0,>=0.34.0 in /usr/local/lib/python3.12/dist-packages (from transformers) (0.34.4)\n",
            "Requirement already satisfied: numpy>=1.17 in /usr/local/lib/python3.12/dist-packages (from transformers) (2.0.2)\n",
            "Requirement already satisfied: packaging>=20.0 in /usr/local/lib/python3.12/dist-packages (from transformers) (25.0)\n",
            "Requirement already satisfied: pyyaml>=5.1 in /usr/local/lib/python3.12/dist-packages (from transformers) (6.0.2)\n",
            "Requirement already satisfied: regex!=2019.12.17 in /usr/local/lib/python3.12/dist-packages (from transformers) (2024.11.6)\n",
            "Requirement already satisfied: requests in /usr/local/lib/python3.12/dist-packages (from transformers) (2.32.4)\n",
            "Requirement already satisfied: tokenizers<=0.23.0,>=0.22.0 in /usr/local/lib/python3.12/dist-packages (from transformers) (0.22.0)\n",
            "Requirement already satisfied: safetensors>=0.4.3 in /usr/local/lib/python3.12/dist-packages (from transformers) (0.6.2)\n",
            "Requirement already satisfied: tqdm>=4.27 in /usr/local/lib/python3.12/dist-packages (from transformers) (4.67.1)\n",
            "Requirement already satisfied: fsspec>=2023.5.0 in /usr/local/lib/python3.12/dist-packages (from huggingface-hub<1.0,>=0.34.0->transformers) (2025.3.0)\n",
            "Requirement already satisfied: typing-extensions>=3.7.4.3 in /usr/local/lib/python3.12/dist-packages (from huggingface-hub<1.0,>=0.34.0->transformers) (4.15.0)\n",
            "Requirement already satisfied: hf-xet<2.0.0,>=1.1.3 in /usr/local/lib/python3.12/dist-packages (from huggingface-hub<1.0,>=0.34.0->transformers) (1.1.9)\n",
            "Requirement already satisfied: charset_normalizer<4,>=2 in /usr/local/lib/python3.12/dist-packages (from requests->transformers) (3.4.3)\n",
            "Requirement already satisfied: idna<4,>=2.5 in /usr/local/lib/python3.12/dist-packages (from requests->transformers) (3.10)\n",
            "Requirement already satisfied: urllib3<3,>=1.21.1 in /usr/local/lib/python3.12/dist-packages (from requests->transformers) (2.5.0)\n",
            "Requirement already satisfied: certifi>=2017.4.17 in /usr/local/lib/python3.12/dist-packages (from requests->transformers) (2025.8.3)\n"
          ]
        }
      ]
    },
    {
      "cell_type": "code",
      "source": [
        "from transformers import AutoTokenizer, AutoModelForTokenClassification\n",
        "from transformers import pipeline"
      ],
      "metadata": {
        "id": "SI3GQQ_Sy4K_"
      },
      "execution_count": null,
      "outputs": []
    },
    {
      "cell_type": "code",
      "source": [
        "tokenizer = AutoTokenizer.from_pretrained(\"dslim/bert-base-NER\")\n",
        "model = AutoModelForTokenClassification.from_pretrained(\"dslim/bert-base-NER\")"
      ],
      "metadata": {
        "colab": {
          "base_uri": "https://localhost:8080/"
        },
        "id": "CijBKqXOzKZC",
        "outputId": "3fedc801-2093-48fa-d5cd-b7adb8cab160"
      },
      "execution_count": null,
      "outputs": [
        {
          "output_type": "stream",
          "name": "stderr",
          "text": [
            "Some weights of the model checkpoint at dslim/bert-base-NER were not used when initializing BertForTokenClassification: ['bert.pooler.dense.bias', 'bert.pooler.dense.weight']\n",
            "- This IS expected if you are initializing BertForTokenClassification from the checkpoint of a model trained on another task or with another architecture (e.g. initializing a BertForSequenceClassification model from a BertForPreTraining model).\n",
            "- This IS NOT expected if you are initializing BertForTokenClassification from the checkpoint of a model that you expect to be exactly identical (initializing a BertForSequenceClassification model from a BertForSequenceClassification model).\n"
          ]
        }
      ]
    },
    {
      "cell_type": "code",
      "source": [
        "classify= pipeline(\"ner\", model=model, tokenizer=tokenizer)"
      ],
      "metadata": {
        "colab": {
          "base_uri": "https://localhost:8080/"
        },
        "id": "gHaUyaWGzCXB",
        "outputId": "584fc646-b928-4dc4-c803-237fa09fc337"
      },
      "execution_count": null,
      "outputs": [
        {
          "output_type": "stream",
          "name": "stderr",
          "text": [
            "Device set to use cpu\n"
          ]
        }
      ]
    },
    {
      "cell_type": "code",
      "source": [
        "data=\"\"\"\n",
        "Spider-Man is a superhero in American comic books published by Marvel Comics.\n",
        "Created by writer-editor Stan Lee and artist Steve Ditko, he first appeared in the anthology comic book Amazing Fantasy #15 (August 1962) in the Silver Age of Comic Books.\n",
        "Considered one of the most popular and commercially successful superheroes, he has been featured in comic books, television shows, films, video games, novels, and plays.\n",
        "\"\"\""
      ],
      "metadata": {
        "id": "4ftCbdmMzhDf"
      },
      "execution_count": null,
      "outputs": []
    },
    {
      "cell_type": "code",
      "source": [
        "results= classify(data)\n",
        "results"
      ],
      "metadata": {
        "colab": {
          "base_uri": "https://localhost:8080/"
        },
        "id": "96jOkprPzzhu",
        "outputId": "2a2cadbc-bc9a-44d4-f0a2-b877636d6d99"
      },
      "execution_count": null,
      "outputs": [
        {
          "output_type": "execute_result",
          "data": {
            "text/plain": [
              "[{'entity': 'B-MISC',\n",
              "  'score': np.float32(0.674075),\n",
              "  'index': 1,\n",
              "  'word': 'Spider',\n",
              "  'start': 1,\n",
              "  'end': 7},\n",
              " {'entity': 'I-MISC',\n",
              "  'score': np.float32(0.81974846),\n",
              "  'index': 2,\n",
              "  'word': '-',\n",
              "  'start': 7,\n",
              "  'end': 8},\n",
              " {'entity': 'I-MISC',\n",
              "  'score': np.float32(0.4952223),\n",
              "  'index': 3,\n",
              "  'word': 'Man',\n",
              "  'start': 8,\n",
              "  'end': 11},\n",
              " {'entity': 'B-MISC',\n",
              "  'score': np.float32(0.99962866),\n",
              "  'index': 8,\n",
              "  'word': 'American',\n",
              "  'start': 30,\n",
              "  'end': 38},\n",
              " {'entity': 'B-ORG',\n",
              "  'score': np.float32(0.99293655),\n",
              "  'index': 13,\n",
              "  'word': 'Marvel',\n",
              "  'start': 64,\n",
              "  'end': 70},\n",
              " {'entity': 'I-ORG',\n",
              "  'score': np.float32(0.9891046),\n",
              "  'index': 14,\n",
              "  'word': 'Comics',\n",
              "  'start': 71,\n",
              "  'end': 77},\n",
              " {'entity': 'B-PER',\n",
              "  'score': np.float32(0.999689),\n",
              "  'index': 21,\n",
              "  'word': 'Stan',\n",
              "  'start': 105,\n",
              "  'end': 109},\n",
              " {'entity': 'I-PER',\n",
              "  'score': np.float32(0.999681),\n",
              "  'index': 22,\n",
              "  'word': 'Lee',\n",
              "  'start': 110,\n",
              "  'end': 113},\n",
              " {'entity': 'B-PER',\n",
              "  'score': np.float32(0.999754),\n",
              "  'index': 25,\n",
              "  'word': 'Steve',\n",
              "  'start': 125,\n",
              "  'end': 130},\n",
              " {'entity': 'I-PER',\n",
              "  'score': np.float32(0.9998042),\n",
              "  'index': 26,\n",
              "  'word': 'Di',\n",
              "  'start': 131,\n",
              "  'end': 133},\n",
              " {'entity': 'I-PER',\n",
              "  'score': np.float32(0.9969903),\n",
              "  'index': 27,\n",
              "  'word': '##t',\n",
              "  'start': 133,\n",
              "  'end': 134},\n",
              " {'entity': 'I-PER',\n",
              "  'score': np.float32(0.9935429),\n",
              "  'index': 28,\n",
              "  'word': '##ko',\n",
              "  'start': 134,\n",
              "  'end': 136},\n",
              " {'entity': 'B-MISC',\n",
              "  'score': np.float32(0.9971103),\n",
              "  'index': 38,\n",
              "  'word': 'Amazing',\n",
              "  'start': 184,\n",
              "  'end': 191},\n",
              " {'entity': 'I-MISC',\n",
              "  'score': np.float32(0.9983546),\n",
              "  'index': 39,\n",
              "  'word': 'Fantasy',\n",
              "  'start': 192,\n",
              "  'end': 199},\n",
              " {'entity': 'B-MISC',\n",
              "  'score': np.float32(0.9936382),\n",
              "  'index': 48,\n",
              "  'word': 'Silver',\n",
              "  'start': 225,\n",
              "  'end': 231},\n",
              " {'entity': 'I-MISC',\n",
              "  'score': np.float32(0.99764156),\n",
              "  'index': 49,\n",
              "  'word': 'Age',\n",
              "  'start': 232,\n",
              "  'end': 235},\n",
              " {'entity': 'I-MISC',\n",
              "  'score': np.float32(0.9862883),\n",
              "  'index': 50,\n",
              "  'word': 'of',\n",
              "  'start': 236,\n",
              "  'end': 238},\n",
              " {'entity': 'I-MISC',\n",
              "  'score': np.float32(0.99180955),\n",
              "  'index': 51,\n",
              "  'word': 'Comic',\n",
              "  'start': 239,\n",
              "  'end': 244},\n",
              " {'entity': 'I-MISC',\n",
              "  'score': np.float32(0.9981711),\n",
              "  'index': 52,\n",
              "  'word': 'Books',\n",
              "  'start': 245,\n",
              "  'end': 250}]"
            ]
          },
          "metadata": {},
          "execution_count": 52
        }
      ]
    }
  ]
}